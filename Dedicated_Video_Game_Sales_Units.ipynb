{
  "nbformat": 4,
  "nbformat_minor": 0,
  "metadata": {
    "colab": {
      "name": "Dedicated Video Game Sales Units.ipynb",
      "provenance": [],
      "authorship_tag": "ABX9TyNnBTlAY+0jPW6jYxUU3joO",
      "include_colab_link": true
    },
    "kernelspec": {
      "name": "python3",
      "display_name": "Python 3"
    },
    "language_info": {
      "name": "python"
    }
  },
  "cells": [
    {
      "cell_type": "markdown",
      "metadata": {
        "id": "view-in-github",
        "colab_type": "text"
      },
      "source": [
        "<a href=\"https://colab.research.google.com/github/RodriMarR/Ejercicio-de-visualizaci-n-de-datos/blob/main/Dedicated_Video_Game_Sales_Units.ipynb\" target=\"_parent\"><img src=\"https://colab.research.google.com/assets/colab-badge.svg\" alt=\"Open In Colab\"/></a>"
      ]
    },
    {
      "cell_type": "markdown",
      "source": [
        ""
      ],
      "metadata": {
        "id": "1WW9i5bOlwn9"
      }
    },
    {
      "cell_type": "markdown",
      "source": [
        ""
      ],
      "metadata": {
        "id": "OX6o-TCMZs1F"
      }
    },
    {
      "cell_type": "code",
      "execution_count": 113,
      "metadata": {
        "id": "5XLlzpv2sV7K"
      },
      "outputs": [],
      "source": [
        "import matplotlib.pyplot as plt\n",
        "import pandas as pd\n",
        "import numpy as np\n"
      ]
    },
    {
      "cell_type": "code",
      "source": [
        "df=pd.read_excel('/content/Data (2).xlsx')\n",
        "df\n",
        "\n"
      ],
      "metadata": {
        "colab": {
          "base_uri": "https://localhost:8080/",
          "height": 300
        },
        "id": "v9GaOCxDsrp4",
        "outputId": "3244d486-d286-4d1b-df68-16143d77ebab"
      },
      "execution_count": 77,
      "outputs": [
        {
          "output_type": "execute_result",
          "data": {
            "text/plain": [
              "                Nintendo Switch Platform                         Metric  \\\n",
              "0         Nintendo Switch hardware/Japan  ten thousand units (hardware)   \n",
              "1  Nintendo Switch hardware/The Americas  ten thousand units (hardware)   \n",
              "2        Nintendo Switch hardware/Europe  ten thousand units (hardware)   \n",
              "3         Nintendo Switch hardware/Other  ten thousand units (hardware)   \n",
              "4         Nintendo Switch software/Japan  ten thousand units (software)   \n",
              "5  Nintendo Switch software/The Americas  ten thousand units (software)   \n",
              "6        Nintendo Switch software/Europe  ten thousand units (software)   \n",
              "7         Nintendo Switch software/Other  ten thousand units (software)   \n",
              "\n",
              "   3/2017  3/2018  3/2019  3/2020  \n",
              "0      60     378     385     521  \n",
              "1     120     594     688     811  \n",
              "2      76     379     455     534  \n",
              "3      18     154     169     237  \n",
              "4      89    1226    2148    3256  \n",
              "5     286    2752    5394    7428  \n",
              "6     142    1917    3516    5017  \n",
              "7      29     456     797    1171  "
            ],
            "text/html": [
              "\n",
              "  <div id=\"df-b2dbd22e-dee7-4f64-940c-2533dfe49636\">\n",
              "    <div class=\"colab-df-container\">\n",
              "      <div>\n",
              "<style scoped>\n",
              "    .dataframe tbody tr th:only-of-type {\n",
              "        vertical-align: middle;\n",
              "    }\n",
              "\n",
              "    .dataframe tbody tr th {\n",
              "        vertical-align: top;\n",
              "    }\n",
              "\n",
              "    .dataframe thead th {\n",
              "        text-align: right;\n",
              "    }\n",
              "</style>\n",
              "<table border=\"1\" class=\"dataframe\">\n",
              "  <thead>\n",
              "    <tr style=\"text-align: right;\">\n",
              "      <th></th>\n",
              "      <th>Nintendo Switch Platform</th>\n",
              "      <th>Metric</th>\n",
              "      <th>3/2017</th>\n",
              "      <th>3/2018</th>\n",
              "      <th>3/2019</th>\n",
              "      <th>3/2020</th>\n",
              "    </tr>\n",
              "  </thead>\n",
              "  <tbody>\n",
              "    <tr>\n",
              "      <th>0</th>\n",
              "      <td>Nintendo Switch hardware/Japan</td>\n",
              "      <td>ten thousand units (hardware)</td>\n",
              "      <td>60</td>\n",
              "      <td>378</td>\n",
              "      <td>385</td>\n",
              "      <td>521</td>\n",
              "    </tr>\n",
              "    <tr>\n",
              "      <th>1</th>\n",
              "      <td>Nintendo Switch hardware/The Americas</td>\n",
              "      <td>ten thousand units (hardware)</td>\n",
              "      <td>120</td>\n",
              "      <td>594</td>\n",
              "      <td>688</td>\n",
              "      <td>811</td>\n",
              "    </tr>\n",
              "    <tr>\n",
              "      <th>2</th>\n",
              "      <td>Nintendo Switch hardware/Europe</td>\n",
              "      <td>ten thousand units (hardware)</td>\n",
              "      <td>76</td>\n",
              "      <td>379</td>\n",
              "      <td>455</td>\n",
              "      <td>534</td>\n",
              "    </tr>\n",
              "    <tr>\n",
              "      <th>3</th>\n",
              "      <td>Nintendo Switch hardware/Other</td>\n",
              "      <td>ten thousand units (hardware)</td>\n",
              "      <td>18</td>\n",
              "      <td>154</td>\n",
              "      <td>169</td>\n",
              "      <td>237</td>\n",
              "    </tr>\n",
              "    <tr>\n",
              "      <th>4</th>\n",
              "      <td>Nintendo Switch software/Japan</td>\n",
              "      <td>ten thousand units (software)</td>\n",
              "      <td>89</td>\n",
              "      <td>1226</td>\n",
              "      <td>2148</td>\n",
              "      <td>3256</td>\n",
              "    </tr>\n",
              "    <tr>\n",
              "      <th>5</th>\n",
              "      <td>Nintendo Switch software/The Americas</td>\n",
              "      <td>ten thousand units (software)</td>\n",
              "      <td>286</td>\n",
              "      <td>2752</td>\n",
              "      <td>5394</td>\n",
              "      <td>7428</td>\n",
              "    </tr>\n",
              "    <tr>\n",
              "      <th>6</th>\n",
              "      <td>Nintendo Switch software/Europe</td>\n",
              "      <td>ten thousand units (software)</td>\n",
              "      <td>142</td>\n",
              "      <td>1917</td>\n",
              "      <td>3516</td>\n",
              "      <td>5017</td>\n",
              "    </tr>\n",
              "    <tr>\n",
              "      <th>7</th>\n",
              "      <td>Nintendo Switch software/Other</td>\n",
              "      <td>ten thousand units (software)</td>\n",
              "      <td>29</td>\n",
              "      <td>456</td>\n",
              "      <td>797</td>\n",
              "      <td>1171</td>\n",
              "    </tr>\n",
              "  </tbody>\n",
              "</table>\n",
              "</div>\n",
              "      <button class=\"colab-df-convert\" onclick=\"convertToInteractive('df-b2dbd22e-dee7-4f64-940c-2533dfe49636')\"\n",
              "              title=\"Convert this dataframe to an interactive table.\"\n",
              "              style=\"display:none;\">\n",
              "        \n",
              "  <svg xmlns=\"http://www.w3.org/2000/svg\" height=\"24px\"viewBox=\"0 0 24 24\"\n",
              "       width=\"24px\">\n",
              "    <path d=\"M0 0h24v24H0V0z\" fill=\"none\"/>\n",
              "    <path d=\"M18.56 5.44l.94 2.06.94-2.06 2.06-.94-2.06-.94-.94-2.06-.94 2.06-2.06.94zm-11 1L8.5 8.5l.94-2.06 2.06-.94-2.06-.94L8.5 2.5l-.94 2.06-2.06.94zm10 10l.94 2.06.94-2.06 2.06-.94-2.06-.94-.94-2.06-.94 2.06-2.06.94z\"/><path d=\"M17.41 7.96l-1.37-1.37c-.4-.4-.92-.59-1.43-.59-.52 0-1.04.2-1.43.59L10.3 9.45l-7.72 7.72c-.78.78-.78 2.05 0 2.83L4 21.41c.39.39.9.59 1.41.59.51 0 1.02-.2 1.41-.59l7.78-7.78 2.81-2.81c.8-.78.8-2.07 0-2.86zM5.41 20L4 18.59l7.72-7.72 1.47 1.35L5.41 20z\"/>\n",
              "  </svg>\n",
              "      </button>\n",
              "      \n",
              "  <style>\n",
              "    .colab-df-container {\n",
              "      display:flex;\n",
              "      flex-wrap:wrap;\n",
              "      gap: 12px;\n",
              "    }\n",
              "\n",
              "    .colab-df-convert {\n",
              "      background-color: #E8F0FE;\n",
              "      border: none;\n",
              "      border-radius: 50%;\n",
              "      cursor: pointer;\n",
              "      display: none;\n",
              "      fill: #1967D2;\n",
              "      height: 32px;\n",
              "      padding: 0 0 0 0;\n",
              "      width: 32px;\n",
              "    }\n",
              "\n",
              "    .colab-df-convert:hover {\n",
              "      background-color: #E2EBFA;\n",
              "      box-shadow: 0px 1px 2px rgba(60, 64, 67, 0.3), 0px 1px 3px 1px rgba(60, 64, 67, 0.15);\n",
              "      fill: #174EA6;\n",
              "    }\n",
              "\n",
              "    [theme=dark] .colab-df-convert {\n",
              "      background-color: #3B4455;\n",
              "      fill: #D2E3FC;\n",
              "    }\n",
              "\n",
              "    [theme=dark] .colab-df-convert:hover {\n",
              "      background-color: #434B5C;\n",
              "      box-shadow: 0px 1px 3px 1px rgba(0, 0, 0, 0.15);\n",
              "      filter: drop-shadow(0px 1px 2px rgba(0, 0, 0, 0.3));\n",
              "      fill: #FFFFFF;\n",
              "    }\n",
              "  </style>\n",
              "\n",
              "      <script>\n",
              "        const buttonEl =\n",
              "          document.querySelector('#df-b2dbd22e-dee7-4f64-940c-2533dfe49636 button.colab-df-convert');\n",
              "        buttonEl.style.display =\n",
              "          google.colab.kernel.accessAllowed ? 'block' : 'none';\n",
              "\n",
              "        async function convertToInteractive(key) {\n",
              "          const element = document.querySelector('#df-b2dbd22e-dee7-4f64-940c-2533dfe49636');\n",
              "          const dataTable =\n",
              "            await google.colab.kernel.invokeFunction('convertToInteractive',\n",
              "                                                     [key], {});\n",
              "          if (!dataTable) return;\n",
              "\n",
              "          const docLinkHtml = 'Like what you see? Visit the ' +\n",
              "            '<a target=\"_blank\" href=https://colab.research.google.com/notebooks/data_table.ipynb>data table notebook</a>'\n",
              "            + ' to learn more about interactive tables.';\n",
              "          element.innerHTML = '';\n",
              "          dataTable['output_type'] = 'display_data';\n",
              "          await google.colab.output.renderOutput(dataTable, element);\n",
              "          const docLink = document.createElement('div');\n",
              "          docLink.innerHTML = docLinkHtml;\n",
              "          element.appendChild(docLink);\n",
              "        }\n",
              "      </script>\n",
              "    </div>\n",
              "  </div>\n",
              "  "
            ]
          },
          "metadata": {},
          "execution_count": 77
        }
      ]
    },
    {
      "cell_type": "code",
      "source": [
        "x=['3/2017', '3/2018', '3/2019', '3/2020','3/2021']\n",
        "\n",
        "\n"
      ],
      "metadata": {
        "id": "NvAcoIK0abKh"
      },
      "execution_count": 96,
      "outputs": []
    },
    {
      "cell_type": "code",
      "source": [
        "y=df.groupby('Metric').sum()\n",
        "y1=[274,1505,1697,2103, 2883]\n",
        "y2=[546, 6351, 11855,16872,23088 ]"
      ],
      "metadata": {
        "id": "AWbGWLjNcvgb"
      },
      "execution_count": 97,
      "outputs": []
    },
    {
      "cell_type": "code",
      "source": [
        "fig, ax1 = plt.subplots()\n",
        "ax2 = ax1.twinx()\n",
        "plt.grid(axis='both',linestyle=':')\n",
        "plt.title('Consolidated Hardware/Software Sales Transition')\n",
        "ax1.bar(x, y1, color='red')\n",
        "ax2.plot(x, y2, 'yo-')\n",
        "ax1.set_ylabel('ten thousand units (hardware)', color='r',fontweight=\"bold\")\n",
        "ax2.set_ylabel('ten thousand units (software)', color='y', rotation=270, fontweight=\"bold\")\n",
        "ax1.spines['right'].set_visible(False)\n",
        "ax1.spines['top'].set_visible(False)\n",
        "ax1.spines['left'].set_visible(False)\n",
        "ax2.spines['right'].set_visible(False)\n",
        "ax2.spines['top'].set_visible(False)\n",
        "ax2.spines['left'].set_visible(False)\n",
        "ax1.set_ylim(0,3200)\n",
        "ax2.set_ylim(0,30000)\n",
        "\n",
        "\n"
      ],
      "metadata": {
        "colab": {
          "base_uri": "https://localhost:8080/",
          "height": 298
        },
        "id": "PK84uOl7fAh8",
        "outputId": "7a8d1236-af01-482d-a40d-b60f05fa05d2"
      },
      "execution_count": 237,
      "outputs": [
        {
          "output_type": "execute_result",
          "data": {
            "text/plain": [
              "(0.0, 30000.0)"
            ]
          },
          "metadata": {},
          "execution_count": 237
        },
        {
          "output_type": "display_data",
          "data": {
            "text/plain": [
              "<Figure size 432x288 with 2 Axes>"
            ],
            "image/png": "[encoded data removed]"
          },
          "metadata": {
            "needs_background": "light"
          }
        }
      ]
    },
    {
      "cell_type": "code",
      "source": [
        "df"
      ],
      "metadata": {
        "colab": {
          "base_uri": "https://localhost:8080/",
          "height": 300
        },
        "id": "E5NUfWxT0j6B",
        "outputId": "f3bba763-e6d1-4f18-9129-667a86a75bd0"
      },
      "execution_count": 155,
      "outputs": [
        {
          "output_type": "execute_result",
          "data": {
            "text/plain": [
              "                Nintendo Switch Platform                         Metric  \\\n",
              "0         Nintendo Switch hardware/Japan  ten thousand units (hardware)   \n",
              "1  Nintendo Switch hardware/The Americas  ten thousand units (hardware)   \n",
              "2        Nintendo Switch hardware/Europe  ten thousand units (hardware)   \n",
              "3         Nintendo Switch hardware/Other  ten thousand units (hardware)   \n",
              "4         Nintendo Switch software/Japan  ten thousand units (software)   \n",
              "5  Nintendo Switch software/The Americas  ten thousand units (software)   \n",
              "6        Nintendo Switch software/Europe  ten thousand units (software)   \n",
              "7         Nintendo Switch software/Other  ten thousand units (software)   \n",
              "\n",
              "   3/2017  3/2018  3/2019  3/2020  \n",
              "0      60     378     385     521  \n",
              "1     120     594     688     811  \n",
              "2      76     379     455     534  \n",
              "3      18     154     169     237  \n",
              "4      89    1226    2148    3256  \n",
              "5     286    2752    5394    7428  \n",
              "6     142    1917    3516    5017  \n",
              "7      29     456     797    1171  "
            ],
            "text/html": [
              "\n",
              "  <div id=\"df-c44f5528-d217-4b43-addb-d53fa4196bb3\">\n",
              "    <div class=\"colab-df-container\">\n",
              "      <div>\n",
              "<style scoped>\n",
              "    .dataframe tbody tr th:only-of-type {\n",
              "        vertical-align: middle;\n",
              "    }\n",
              "\n",
              "    .dataframe tbody tr th {\n",
              "        vertical-align: top;\n",
              "    }\n",
              "\n",
              "    .dataframe thead th {\n",
              "        text-align: right;\n",
              "    }\n",
              "</style>\n",
              "<table border=\"1\" class=\"dataframe\">\n",
              "  <thead>\n",
              "    <tr style=\"text-align: right;\">\n",
              "      <th></th>\n",
              "      <th>Nintendo Switch Platform</th>\n",
              "      <th>Metric</th>\n",
              "      <th>3/2017</th>\n",
              "      <th>3/2018</th>\n",
              "      <th>3/2019</th>\n",
              "      <th>3/2020</th>\n",
              "    </tr>\n",
              "  </thead>\n",
              "  <tbody>\n",
              "    <tr>\n",
              "      <th>0</th>\n",
              "      <td>Nintendo Switch hardware/Japan</td>\n",
              "      <td>ten thousand units (hardware)</td>\n",
              "      <td>60</td>\n",
              "      <td>378</td>\n",
              "      <td>385</td>\n",
              "      <td>521</td>\n",
              "    </tr>\n",
              "    <tr>\n",
              "      <th>1</th>\n",
              "      <td>Nintendo Switch hardware/The Americas</td>\n",
              "      <td>ten thousand units (hardware)</td>\n",
              "      <td>120</td>\n",
              "      <td>594</td>\n",
              "      <td>688</td>\n",
              "      <td>811</td>\n",
              "    </tr>\n",
              "    <tr>\n",
              "      <th>2</th>\n",
              "      <td>Nintendo Switch hardware/Europe</td>\n",
              "      <td>ten thousand units (hardware)</td>\n",
              "      <td>76</td>\n",
              "      <td>379</td>\n",
              "      <td>455</td>\n",
              "      <td>534</td>\n",
              "    </tr>\n",
              "    <tr>\n",
              "      <th>3</th>\n",
              "      <td>Nintendo Switch hardware/Other</td>\n",
              "      <td>ten thousand units (hardware)</td>\n",
              "      <td>18</td>\n",
              "      <td>154</td>\n",
              "      <td>169</td>\n",
              "      <td>237</td>\n",
              "    </tr>\n",
              "    <tr>\n",
              "      <th>4</th>\n",
              "      <td>Nintendo Switch software/Japan</td>\n",
              "      <td>ten thousand units (software)</td>\n",
              "      <td>89</td>\n",
              "      <td>1226</td>\n",
              "      <td>2148</td>\n",
              "      <td>3256</td>\n",
              "    </tr>\n",
              "    <tr>\n",
              "      <th>5</th>\n",
              "      <td>Nintendo Switch software/The Americas</td>\n",
              "      <td>ten thousand units (software)</td>\n",
              "      <td>286</td>\n",
              "      <td>2752</td>\n",
              "      <td>5394</td>\n",
              "      <td>7428</td>\n",
              "    </tr>\n",
              "    <tr>\n",
              "      <th>6</th>\n",
              "      <td>Nintendo Switch software/Europe</td>\n",
              "      <td>ten thousand units (software)</td>\n",
              "      <td>142</td>\n",
              "      <td>1917</td>\n",
              "      <td>3516</td>\n",
              "      <td>5017</td>\n",
              "    </tr>\n",
              "    <tr>\n",
              "      <th>7</th>\n",
              "      <td>Nintendo Switch software/Other</td>\n",
              "      <td>ten thousand units (software)</td>\n",
              "      <td>29</td>\n",
              "      <td>456</td>\n",
              "      <td>797</td>\n",
              "      <td>1171</td>\n",
              "    </tr>\n",
              "  </tbody>\n",
              "</table>\n",
              "</div>\n",
              "      <button class=\"colab-df-convert\" onclick=\"convertToInteractive('df-c44f5528-d217-4b43-addb-d53fa4196bb3')\"\n",
              "              title=\"Convert this dataframe to an interactive table.\"\n",
              "              style=\"display:none;\">\n",
              "        \n",
              "  <svg xmlns=\"http://www.w3.org/2000/svg\" height=\"24px\"viewBox=\"0 0 24 24\"\n",
              "       width=\"24px\">\n",
              "    <path d=\"M0 0h24v24H0V0z\" fill=\"none\"/>\n",
              "    <path d=\"M18.56 5.44l.94 2.06.94-2.06 2.06-.94-2.06-.94-.94-2.06-.94 2.06-2.06.94zm-11 1L8.5 8.5l.94-2.06 2.06-.94-2.06-.94L8.5 2.5l-.94 2.06-2.06.94zm10 10l.94 2.06.94-2.06 2.06-.94-2.06-.94-.94-2.06-.94 2.06-2.06.94z\"/><path d=\"M17.41 7.96l-1.37-1.37c-.4-.4-.92-.59-1.43-.59-.52 0-1.04.2-1.43.59L10.3 9.45l-7.72 7.72c-.78.78-.78 2.05 0 2.83L4 21.41c.39.39.9.59 1.41.59.51 0 1.02-.2 1.41-.59l7.78-7.78 2.81-2.81c.8-.78.8-2.07 0-2.86zM5.41 20L4 18.59l7.72-7.72 1.47 1.35L5.41 20z\"/>\n",
              "  </svg>\n",
              "      </button>\n",
              "      \n",
              "  <style>\n",
              "    .colab-df-container {\n",
              "      display:flex;\n",
              "      flex-wrap:wrap;\n",
              "      gap: 12px;\n",
              "    }\n",
              "\n",
              "    .colab-df-convert {\n",
              "      background-color: #E8F0FE;\n",
              "      border: none;\n",
              "      border-radius: 50%;\n",
              "      cursor: pointer;\n",
              "      display: none;\n",
              "      fill: #1967D2;\n",
              "      height: 32px;\n",
              "      padding: 0 0 0 0;\n",
              "      width: 32px;\n",
              "    }\n",
              "\n",
              "    .colab-df-convert:hover {\n",
              "      background-color: #E2EBFA;\n",
              "      box-shadow: 0px 1px 2px rgba(60, 64, 67, 0.3), 0px 1px 3px 1px rgba(60, 64, 67, 0.15);\n",
              "      fill: #174EA6;\n",
              "    }\n",
              "\n",
              "    [theme=dark] .colab-df-convert {\n",
              "      background-color: #3B4455;\n",
              "      fill: #D2E3FC;\n",
              "    }\n",
              "\n",
              "    [theme=dark] .colab-df-convert:hover {\n",
              "      background-color: #434B5C;\n",
              "      box-shadow: 0px 1px 3px 1px rgba(0, 0, 0, 0.15);\n",
              "      filter: drop-shadow(0px 1px 2px rgba(0, 0, 0, 0.3));\n",
              "      fill: #FFFFFF;\n",
              "    }\n",
              "  </style>\n",
              "\n",
              "      <script>\n",
              "        const buttonEl =\n",
              "          document.querySelector('#df-c44f5528-d217-4b43-addb-d53fa4196bb3 button.colab-df-convert');\n",
              "        buttonEl.style.display =\n",
              "          google.colab.kernel.accessAllowed ? 'block' : 'none';\n",
              "\n",
              "        async function convertToInteractive(key) {\n",
              "          const element = document.querySelector('#df-c44f5528-d217-4b43-addb-d53fa4196bb3');\n",
              "          const dataTable =\n",
              "            await google.colab.kernel.invokeFunction('convertToInteractive',\n",
              "                                                     [key], {});\n",
              "          if (!dataTable) return;\n",
              "\n",
              "          const docLinkHtml = 'Like what you see? Visit the ' +\n",
              "            '<a target=\"_blank\" href=https://colab.research.google.com/notebooks/data_table.ipynb>data table notebook</a>'\n",
              "            + ' to learn more about interactive tables.';\n",
              "          element.innerHTML = '';\n",
              "          dataTable['output_type'] = 'display_data';\n",
              "          await google.colab.output.renderOutput(dataTable, element);\n",
              "          const docLink = document.createElement('div');\n",
              "          docLink.innerHTML = docLinkHtml;\n",
              "          element.appendChild(docLink);\n",
              "        }\n",
              "      </script>\n",
              "    </div>\n",
              "  </div>\n",
              "  "
            ]
          },
          "metadata": {},
          "execution_count": 155
        }
      ]
    },
    {
      "cell_type": "code",
      "source": [
        "df\n",
        "Japanh=[60, 378, 385, 521,660]\n",
        "Americash=[120, 594, 688, 811,1115]\n",
        "Europeh=[76, 379, 455, 534,715]\n",
        "Otroh=[18, 154, 169, 237,393]\n"
      ],
      "metadata": {
        "id": "LDejyqfemIpn"
      },
      "execution_count": 154,
      "outputs": []
    },
    {
      "cell_type": "code",
      "source": [
        "Japans=[89,1226,2148,3256,4502]\n",
        "Americass=[286,2752,5394,7428,10242]\n",
        "Europes=[142,1917,3516,5017,6624]\n",
        "Otros=[29,456,797,1171,1720]"
      ],
      "metadata": {
        "id": "2Lb0KPJB0nVM"
      },
      "execution_count": 156,
      "outputs": []
    },
    {
      "cell_type": "code",
      "source": [
        "fig, ax1 = plt.subplots()\n",
        "ax2 = ax1.twinx()\n",
        "plt.grid(axis='both',linestyle=':')\n",
        "plt.title('Nintendo Switch Platform')\n",
        "ax1.bar(x, Otroh, label='Nintendo Switch hardware/Other', color='lime')\n",
        "ax1.bar(x, Europeh, label='Nintendo Switch hardware/Europe',  bottom=Otroh, color='aqua')\n",
        "ax1.bar(x, Americash, label='Nintendo Switch hardware/The Americas',  bottom=np.array(Europeh)+np.array(Otroh), color='gold')\n",
        "ax1.bar(x, Japanh, label='Nintendo Switch hardware/Japan',  bottom=np.array(Europeh)+np.array(Otroh)+np.array(Americash), color='firebrick')\n",
        "ax1.set_ylim(0,3200)\n",
        "ax1.spines['right'].set_visible(False)\n",
        "ax1.spines['top'].set_visible(False)\n",
        "ax1.spines['left'].set_visible(False)\n",
        "ax2.spines['right'].set_visible(False)\n",
        "ax2.spines['top'].set_visible(False)\n",
        "ax2.spines['left'].set_visible(False)\n",
        "ax2.set_ylim(0,12000)\n",
        "ax2.plot(x, Otros, '^-', label='Nintendo Switch software/Other')\n",
        "ax2.plot(x, Japans, 'o-', color='darkblue', label='Nintendo Switch software/Japan')\n",
        "ax2.plot(x, Europes, 's-', color='darkgreen', label='Nintendo Switch software/Europe')\n",
        "ax2.plot(x, Americass, 'D-', color='deeppink', label='Nintendo Switch software/The Americas')\n",
        "ax1.set_ylabel('ten thousand units (hardware)', fontweight=\"bold\")\n",
        "ax2.set_ylabel('ten thousand units (software)', rotation=270,fontweight=\"bold\")\n",
        "ax1.legend(loc='lower center',bbox_to_anchor=(0.55,-0.3), ncol=2, fancybox=False)\n",
        "ax2.legend(loc=\"lower center\",bbox_to_anchor=(0.55,-0.5),ncol=2)\n"
      ],
      "metadata": {
        "colab": {
          "base_uri": "https://localhost:8080/",
          "height": 385
        },
        "id": "UVd1KHjux5N1",
        "outputId": "46d970fe-0792-45a1-9edb-6d5150682d64"
      },
      "execution_count": 235,
      "outputs": [
        {
          "output_type": "execute_result",
          "data": {
            "text/plain": [
              "<matplotlib.legend.Legend at 0x7fe7f2e94510>"
            ]
          },
          "metadata": {},
          "execution_count": 235
        },
        {
          "output_type": "display_data",
          "data": {
            "text/plain": [
              "<Figure size 432x288 with 2 Axes>"
            ],
            "image/png": "[encoded data removed]"
          },
          "metadata": {
            "needs_background": "light"
          }
        }
      ]
    }
  ]
}